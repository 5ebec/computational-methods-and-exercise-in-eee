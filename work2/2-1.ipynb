{
 "cells": [
  {
   "cell_type": "markdown",
   "metadata": {},
   "source": [
    "## 課題2.1(必須)\n",
    "\n"
   ]
  },
  {
   "cell_type": "markdown",
   "metadata": {},
   "source": [
    "### 2.1.1\n"
   ]
  },
  {
   "cell_type": "code",
   "execution_count": 1,
   "metadata": {},
   "outputs": [
    {
     "name": "stdout",
     "output_type": "stream",
     "text": [
      "LU=\n",
      " 3.0       1.0      1.0     \n",
      " 0.333333  2.66667  0.666667\n",
      " 0.333333  0.25     2.5     "
     ]
    }
   ],
   "source": [
    "# LU decomposition\n",
    "function ludecomp!(A)\n",
    "    n = size(A)[1]\n",
    "    for j = 1:n\n",
    "        # u_{ij} (i <= j)\n",
    "        for i = 1:j\n",
    "            u = A[i,j]\n",
    "            for k = 1:(i-1)\n",
    "                u -= A[i,k]*A[k,j]\n",
    "            end\n",
    "            A[i,j] = u\n",
    "        end\n",
    "        # l_{ij} (i > j)\n",
    "        for i = (j+1):n\n",
    "            l = A[i,j]\n",
    "            for k = 1:(j-1)\n",
    "                l -= A[i,k]*A[k,j]\n",
    "            end\n",
    "            A[i,j] = l/A[j,j]\n",
    "        end\n",
    "    end\n",
    "    return A\n",
    "end\n",
    "\n",
    "\n",
    "# main\n",
    "function main()\n",
    "    A = [3. 1. 1.\n",
    "         1. 3. 1.\n",
    "         1. 1. 3.]\n",
    "    println(\"LU=\")\n",
    "    Base.print_array(IOContext(stdout, :compact => true), ludecomp!(A))\n",
    "end\n",
    "\n",
    "\n",
    "main()"
   ]
  },
  {
   "cell_type": "markdown",
   "metadata": {},
   "source": [
    "### ライブラリを用いる\n",
    "```julia\n",
    "using LinearAlgebra\n",
    "lu(A)\n",
    "```"
   ]
  },
  {
   "cell_type": "code",
   "execution_count": 11,
   "metadata": {},
   "outputs": [
    {
     "data": {
      "text/plain": [
       "LU{Float64,Array{Float64,2}}\n",
       "L factor:\n",
       "3×3 Array{Float64,2}:\n",
       " 1.0       0.0   0.0\n",
       " 0.333333  1.0   0.0\n",
       " 0.333333  0.25  1.0\n",
       "U factor:\n",
       "3×3 Array{Float64,2}:\n",
       " 3.0  1.0      1.0     \n",
       " 0.0  2.66667  0.666667\n",
       " 0.0  0.0      2.5     "
      ]
     },
     "metadata": {},
     "output_type": "display_data"
    },
    {
     "name": "stdout",
     "output_type": "stream",
     "text": [
      "L=\n",
      " 1.0       0.0   0.0\n",
      " 0.333333  1.0   0.0\n",
      " 0.333333  0.25  1.0\n",
      "U=\n",
      " 3.0  1.0      1.0     \n",
      " 0.0  2.66667  0.666667\n",
      " 0.0  0.0      2.5     "
     ]
    }
   ],
   "source": [
    "using LinearAlgebra\n",
    "A = [3. 1. 1.\n",
    "     1. 3. 1.\n",
    "     1. 1. 3.]\n",
    "\n",
    "println(\"L=\")\n",
    "Base.print_array(IOContext(stdout, :compact => true), lu(A).L)\n",
    "println(\"\\nU=\")\n",
    "Base.print_array(IOContext(stdout, :compact => true), lu(A).U)"
   ]
  },
  {
   "cell_type": "markdown",
   "metadata": {},
   "source": [
    "### 2.1.2"
   ]
  },
  {
   "cell_type": "code",
   "execution_count": 2,
   "metadata": {},
   "outputs": [
    {
     "data": {
      "text/plain": [
       "3-element Array{Float64,1}:\n",
       " 0.0\n",
       " 4.0\n",
       " 5.0"
      ]
     },
     "execution_count": 2,
     "metadata": {},
     "output_type": "execute_result"
    }
   ],
   "source": [
    "# Forward Substitution\n",
    "function fwdsub!(L, b)\n",
    "    for i = 1:size(b)[1]\n",
    "        y = b[i]\n",
    "        for k = 1:i-1\n",
    "            y -= b[k]*L[i,k]\n",
    "        end\n",
    "        b[i] = y\n",
    "    end\n",
    "    return b\n",
    "end\n",
    "\n",
    "\n",
    "# main\n",
    "function main()\n",
    "    L = [1.0      0.0  0.0     \n",
    "         0.333333 1.0  0.0\n",
    "         0.333333 0.25 1.0]\n",
    "    b=[0.; 4.; 6.]\n",
    "    fwdsub!(L, b)\n",
    "end\n",
    "\n",
    "\n",
    "main()"
   ]
  },
  {
   "cell_type": "markdown",
   "metadata": {},
   "source": [
    "### 2.1.3"
   ]
  },
  {
   "cell_type": "code",
   "execution_count": 3,
   "metadata": {},
   "outputs": [
    {
     "data": {
      "text/plain": [
       "3-element Array{Float64,1}:\n",
       " -0.9999995000006251\n",
       "  0.9999985000018751\n",
       "  2.0               "
      ]
     },
     "execution_count": 3,
     "metadata": {},
     "output_type": "execute_result"
    }
   ],
   "source": [
    "# Backward Substitution\n",
    "function bwdsub!(U, y)\n",
    "    n = size(y)[1]\n",
    "    for i = n:-1:1\n",
    "        x = y[i]\n",
    "        for k = (i+1):n\n",
    "            x -= y[k]*U[i,k]\n",
    "        end\n",
    "        y[i] = x/U[i,i]\n",
    "    end\n",
    "    return y\n",
    "end\n",
    "\n",
    "\n",
    "# main\n",
    "function main()\n",
    "    U = [3.0 1.0     1.0     \n",
    "         0.0 2.66667 0.666667\n",
    "         0.0 0.0     2.5]\n",
    "    y=[0.; 4.; 5.]\n",
    "    bwdsub!(U, y)\n",
    "end\n",
    "\n",
    "\n",
    "main()"
   ]
  },
  {
   "cell_type": "markdown",
   "metadata": {},
   "source": [
    "### 2.1.4"
   ]
  },
  {
   "cell_type": "code",
   "execution_count": 5,
   "metadata": {},
   "outputs": [
    {
     "name": "stdout",
     "output_type": "stream",
     "text": [
      "A=[3.0 1.0 1.0; 1.0 3.0 1.0; 1.0 1.0 3.0]\n",
      "b=[0.0, 4.0, 6.0]\n",
      "x=[-1.0, 1.0, 2.0]\n"
     ]
    }
   ],
   "source": [
    "# simultaneous linear equations solution\n",
    "function lusolve!(A, b)\n",
    "    ludecomp!(A)\n",
    "    fwdsub!(A, b)\n",
    "    bwdsub!(A, b)\n",
    "end\n",
    "\n",
    "\n",
    "# main\n",
    "function main()\n",
    "    A = [3. 1. 1.\n",
    "         1. 3. 1. \n",
    "         1. 1. 3.]\n",
    "    b=[0.; 4.; 6.]\n",
    "\n",
    "    println(\"A=\", A)\n",
    "    println(\"b=\", b)\n",
    "    println(\"x=\", lusolve!(A,b))\n",
    "end\n",
    "\n",
    "\n",
    "main()"
   ]
  },
  {
   "cell_type": "markdown",
   "metadata": {},
   "source": [
    "### 2.1.5\n"
   ]
  },
  {
   "cell_type": "code",
   "execution_count": 6,
   "metadata": {},
   "outputs": [
    {
     "name": "stdout",
     "output_type": "stream",
     "text": [
      "[0.845299; 0.226497; 0.0606898; 0.0162618; 0.00435733; 0.00116754; 0.000312842; 8.38258e-5; 2.24611e-5; 6.01842e-6; 1.61263e-6; 4.32103e-7; 1.15782e-7; 3.10236e-8; 8.31275e-9; 2.2274e-9; 5.96829e-10; 1.5992e-10; 4.28504e-11; 1.14817e-11; 3.0765e-12; 8.24269e-13; 2.20579e-13; 5.80471e-14; 1.16094e-14; -1.16094e-14; -5.80471e-14; -2.20579e-13; -8.24269e-13; -3.0765e-12; -1.14817e-11; -4.28504e-11; -1.5992e-10; -5.96829e-10; -2.2274e-9; -8.31275e-9; -3.10236e-8; -1.15782e-7; -4.32103e-7; -1.61263e-6; -6.01842e-6; -2.24611e-5; -8.38258e-5; -0.000312842; -0.00116754; -0.00435733; -0.0162618; -0.0606898; -0.226497; -0.845299]\n",
      "[0.873435; 0.704681; 0.06614; -0.616494; -0.888133; -0.567682; 0.131223; 0.742646; 0.858972; 0.40265; -0.322105; -0.832124; -0.787393; -0.217733; 0.497082; 0.880509; 0.67693; 0.0220648; -0.647511; -0.885412; -0.533039; 0.174693; 0.765964; 0.846591; 0.362825; -0.362825; -0.846591; -0.765964; -0.174693; 0.533039; 0.885412; 0.647511; -0.0220648; -0.67693; -0.880509; -0.497082; 0.217733; 0.787393; 0.832124; 0.322105; -0.40265; -0.858972; -0.742646; -0.131223; 0.567682; 0.888133; 0.616494; -0.06614; -0.704681; -0.873435]\n"
     ]
    }
   ],
   "source": [
    "using LinearAlgebra\n",
    "\n",
    "\n",
    "# A matrix\n",
    "function amtx(n, a)\n",
    "    mtx = Array(SymTridiagonal(fill(1., n), fill(a, n-1)))\n",
    "    mtx[1,n] = mtx[n,1] = a\n",
    "    return mtx\n",
    "end\n",
    "\n",
    "\n",
    "# b vector\n",
    "function bvec(n)\n",
    "    vec = zeros(n,1)\n",
    "    vec[1] = 1\n",
    "    vec[n] = -1\n",
    "    return vec\n",
    "end\n",
    "\n",
    "\n",
    "# main\n",
    "function main()\n",
    "    n = 50\n",
    "    println(lusolve!(amtx(n, -1/4), bvec(n)))\n",
    "    println(lusolve!(amtx(n, -3/4), bvec(n)))\n",
    "end\n",
    "\n",
    "\n",
    "main()"
   ]
  }
 ],
 "metadata": {
  "kernelspec": {
   "display_name": "Julia 1.0.1",
   "language": "julia",
   "name": "julia-1.0"
  },
  "language_info": {
   "file_extension": ".jl",
   "mimetype": "application/julia",
   "name": "julia",
   "version": "1.0.3"
  }
 },
 "nbformat": 4,
 "nbformat_minor": 2
}
