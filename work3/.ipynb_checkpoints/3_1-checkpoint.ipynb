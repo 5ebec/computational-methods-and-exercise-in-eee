{
 "cells": [
  {
   "cell_type": "markdown",
   "metadata": {},
   "source": [
    "## 課題3.1"
   ]
  },
  {
   "cell_type": "markdown",
   "metadata": {},
   "source": [
    "### 課題3.1.2"
   ]
  },
  {
   "cell_type": "code",
   "execution_count": 14,
   "metadata": {},
   "outputs": [
    {
     "name": "stdout",
     "output_type": "stream",
     "text": [
      "  0.771218 seconds (779.40 k allocations: 79.457 MiB, 6.88% gc time)\n"
     ]
    }
   ],
   "source": [
    "using OffsetArrays\n",
    "using Plots\n",
    "gr(w=3, legend=false)\n",
    "ENV[\"PLOTS_TEST\"]=\"true\"\n",
    "\n",
    "# parameter\n",
    "const N = 100\n",
    "const Δx = 1.0/N\n",
    "const Δt = 0.001\n",
    "const c = 5.0\n",
    "const T_D = 0.1\n",
    "const μ = c^2 * Δt^2/Δx^2\n",
    "\n",
    "function ufunc(k_max::Int, N::Int, edge::String)\n",
    "    # init u\n",
    "    u = OffsetArray(zeros(Float64, k_max, N+1), 0:k_max-1, 0:N)\n",
    "    u[0:Int(T_D/Δt)-1, 0] .= 1\n",
    "    \n",
    "    for k = 2:k_max-1, i = 1:N\n",
    "        i <= N-1 && (u[k, i] = -u[k-2, i] + μ*u[k-1, i-1] + 2(1-μ)u[k-1, i] + μ*u[k-1, i+1])\n",
    "        if edge == \"fixed\"\n",
    "            u[k, N] = 0\n",
    "        elseif edge == \"free\"\n",
    "            u[k, N] = u[k, N-1]\n",
    "        end\n",
    "    end\n",
    "    return u\n",
    "end\n",
    "\n",
    "function main()\n",
    "    k_max = 1000\n",
    "\n",
    "    # free edge\n",
    "    u_free = ufunc(k_max, N, \"free\")\n",
    "    anim2 = @animate for k=0:k_max-1\n",
    "        plot(0:N, u_free[k,0:N], xaxis=\"i\", yaxis=\"u\", title=\"Free edge\",\n",
    "            ylim=(minimum(u_free), maximum(u_free)))\n",
    "    end\n",
    "    gif(anim2, \"img/3_1_2-free.gif\", fps = 40)\n",
    "    \n",
    "    contour(u_free, xaxis=\"i\", yaxis=\"k\", title=\"u (Free edge)\",\n",
    "            fill=true, legend=true, c=:pu_or,\n",
    "            clim=(minimum(u_free), maximum(u_free)))\n",
    "    savefig(\"img/3_1_2-free.png\")\n",
    "\n",
    "    # fixed edge\n",
    "    u_fixed = ufunc(k_max, N, \"fixed\")\n",
    "    anim1 = @animate for k=0:k_max-1\n",
    "        plot(0:N, u_fixed[k,0:N], xaxis=\"i\", yaxis=\"u\", title=\"Fixed edge\",\n",
    "            ylim=(minimum(u_fixed), maximum(u_fixed)))\n",
    "    end\n",
    "    gif(anim1, \"img/3_1_2-fixed.gif\", fps = 40)\n",
    "\n",
    "    contour(u_fixed, xaxis=\"i\", yaxis=\"k\", title=\"u (Fixed edge)\",\n",
    "            fill=true, legend=true, c=:pu_or,\n",
    "            clim=(minimum(u_free), maximum(u_free)))\n",
    "    savefig(\"img/3_1_2-fixed.png\")\n",
    "end\n",
    "\n",
    "\n",
    "@time main()"
   ]
  }
 ],
 "metadata": {
  "kernelspec": {
   "display_name": "Julia 1.0.1",
   "language": "julia",
   "name": "julia-1.0"
  },
  "language_info": {
   "file_extension": ".jl",
   "mimetype": "application/julia",
   "name": "julia",
   "version": "1.0.3"
  }
 },
 "nbformat": 4,
 "nbformat_minor": 2
}
